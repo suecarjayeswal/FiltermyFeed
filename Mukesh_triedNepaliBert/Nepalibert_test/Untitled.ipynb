{
 "cells": [
  {
   "cell_type": "code",
   "execution_count": 7,
   "id": "86205a8c",
   "metadata": {},
   "outputs": [
    {
     "name": "stdout",
     "output_type": "stream",
     "text": [
      "[{'score': 0.032936614006757736, 'token': 589, 'token_str': 'हो', 'sequence': 'तलाइ मुजी हो को'}, {'score': 0.01449393481016159, 'token': 108, 'token_str': 'छ', 'sequence': 'तलाइ मुजी छ को'}, {'score': 0.013858496211469173, 'token': 333, 'token_str': '##प', 'sequence': 'तलाइ मुजीप को'}, {'score': 0.011519883759319782, 'token': 1079, 'token_str': 'भयो', 'sequence': 'तलाइ मुजी भयो को'}, {'score': 0.009363965131342411, 'token': 3159, 'token_str': 'है', 'sequence': 'तलाइ मुजी है को'}]\n"
     ]
    }
   ],
   "source": [
    "from transformers import BertTokenizer\n",
    "\n",
    "vocab_file_dir = './NepaliBERT/' \n",
    "tokenizer = BertTokenizer.from_pretrained(vocab_file_dir,\n",
    "                                        strip_accents=False,\n",
    "                                         clean_text=False )\n",
    "\n",
    "from transformers import BertForMaskedLM\n",
    "model = BertForMaskedLM.from_pretrained('./NepaliBERT')\n",
    "\n",
    "from transformers import pipeline\n",
    "\n",
    "fill_mask = pipeline(\n",
    "    \"fill-mask\",\n",
    "    model=model,\n",
    "    tokenizer=tokenizer\n",
    ")\n",
    "\n",
    "\n",
    "res = fill_mask('तलाइ  मुजी [MASK] को')\n",
    "print(res)"
   ]
  },
  {
   "cell_type": "code",
   "execution_count": null,
   "id": "95dcd2fc",
   "metadata": {},
   "outputs": [],
   "source": []
  }
 ],
 "metadata": {
  "kernelspec": {
   "display_name": "mlvenv",
   "language": "python",
   "name": "mlvenv"
  },
  "language_info": {
   "codemirror_mode": {
    "name": "ipython",
    "version": 3
   },
   "file_extension": ".py",
   "mimetype": "text/x-python",
   "name": "python",
   "nbconvert_exporter": "python",
   "pygments_lexer": "ipython3",
   "version": "3.8.0"
  }
 },
 "nbformat": 4,
 "nbformat_minor": 5
}
