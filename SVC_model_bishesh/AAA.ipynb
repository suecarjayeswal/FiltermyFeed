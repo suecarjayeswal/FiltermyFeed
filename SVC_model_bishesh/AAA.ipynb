{
 "cells": [
  {
   "cell_type": "code",
   "execution_count": 1,
   "id": "initial_id",
   "metadata": {
    "ExecuteTime": {
     "end_time": "2023-09-30T12:48:31.345871383Z",
     "start_time": "2023-09-30T12:48:31.317136088Z"
    }
   },
   "outputs": [],
   "source": [
    "import pandas as pd\n",
    "import spacy\n",
    "from sklearn.model_selection import train_test_split\n",
    "from sklearn.feature_extraction.text import TfidfVectorizer\n",
    "from sklearn import *"
   ]
  },
  {
   "cell_type": "code",
   "execution_count": 2,
   "id": "85adb9c7f632e456",
   "metadata": {
    "ExecuteTime": {
     "end_time": "2023-09-30T12:48:32.152113519Z",
     "start_time": "2023-09-30T12:48:32.126251915Z"
    }
   },
   "outputs": [],
   "source": [
    "df = pd.read_csv('hamro.csv')"
   ]
  },
  {
   "cell_type": "code",
   "execution_count": 3,
   "id": "bd53ff87033c4779",
   "metadata": {
    "ExecuteTime": {
     "end_time": "2023-09-30T12:48:33.412613257Z",
     "start_time": "2023-09-30T12:48:33.389236836Z"
    }
   },
   "outputs": [
    {
     "data": {
      "text/html": [
       "<div>\n",
       "<style scoped>\n",
       "    .dataframe tbody tr th:only-of-type {\n",
       "        vertical-align: middle;\n",
       "    }\n",
       "\n",
       "    .dataframe tbody tr th {\n",
       "        vertical-align: top;\n",
       "    }\n",
       "\n",
       "    .dataframe thead th {\n",
       "        text-align: right;\n",
       "    }\n",
       "</style>\n",
       "<table border=\"1\" class=\"dataframe\">\n",
       "  <thead>\n",
       "    <tr style=\"text-align: right;\">\n",
       "      <th></th>\n",
       "      <th>Text</th>\n",
       "      <th>Class</th>\n",
       "    </tr>\n",
       "  </thead>\n",
       "  <tbody>\n",
       "    <tr>\n",
       "      <th>0</th>\n",
       "      <td>\"Feeling lucky today?\"</td>\n",
       "      <td>Gambling</td>\n",
       "    </tr>\n",
       "    <tr>\n",
       "      <th>1</th>\n",
       "      <td>\"Take a chance, you might win big!\"</td>\n",
       "      <td>Gambling</td>\n",
       "    </tr>\n",
       "    <tr>\n",
       "      <th>2</th>\n",
       "      <td>\"Just one more bet won't hurt.\"</td>\n",
       "      <td>Gambling</td>\n",
       "    </tr>\n",
       "    <tr>\n",
       "      <th>3</th>\n",
       "      <td>\"The thrill of the game is irresistible.\"</td>\n",
       "      <td>Gambling</td>\n",
       "    </tr>\n",
       "    <tr>\n",
       "      <th>4</th>\n",
       "      <td>\"You used to be so good at this, why stop now?\"</td>\n",
       "      <td>Gambling</td>\n",
       "    </tr>\n",
       "    <tr>\n",
       "      <th>...</th>\n",
       "      <td>...</td>\n",
       "      <td>...</td>\n",
       "    </tr>\n",
       "    <tr>\n",
       "      <th>5348</th>\n",
       "      <td>A comforting presence that brings peace.</td>\n",
       "      <td>Affection</td>\n",
       "    </tr>\n",
       "    <tr>\n",
       "      <th>5349</th>\n",
       "      <td>Cherishing moments that become cherished treas...</td>\n",
       "      <td>Affection</td>\n",
       "    </tr>\n",
       "    <tr>\n",
       "      <th>5350</th>\n",
       "      <td>Acts of devotion that define profound love.</td>\n",
       "      <td>Affection</td>\n",
       "    </tr>\n",
       "    <tr>\n",
       "      <th>5351</th>\n",
       "      <td>Supportive relationships that empower growth.</td>\n",
       "      <td>Affection</td>\n",
       "    </tr>\n",
       "    <tr>\n",
       "      <th>5352</th>\n",
       "      <td>Heartfelt connections that strengthen compassion.</td>\n",
       "      <td>Affection</td>\n",
       "    </tr>\n",
       "  </tbody>\n",
       "</table>\n",
       "<p>5353 rows × 2 columns</p>\n",
       "</div>"
      ],
      "text/plain": [
       "                                                   Text      Class\n",
       "0                                \"Feeling lucky today?\"   Gambling\n",
       "1                   \"Take a chance, you might win big!\"   Gambling\n",
       "2                       \"Just one more bet won't hurt.\"   Gambling\n",
       "3             \"The thrill of the game is irresistible.\"   Gambling\n",
       "4       \"You used to be so good at this, why stop now?\"   Gambling\n",
       "...                                                 ...        ...\n",
       "5348           A comforting presence that brings peace.  Affection\n",
       "5349  Cherishing moments that become cherished treas...  Affection\n",
       "5350        Acts of devotion that define profound love.  Affection\n",
       "5351      Supportive relationships that empower growth.  Affection\n",
       "5352  Heartfelt connections that strengthen compassion.  Affection\n",
       "\n",
       "[5353 rows x 2 columns]"
      ]
     },
     "execution_count": 3,
     "metadata": {},
     "output_type": "execute_result"
    }
   ],
   "source": [
    "df"
   ]
  },
  {
   "cell_type": "code",
   "execution_count": 4,
   "id": "e634e42807fddd25",
   "metadata": {
    "ExecuteTime": {
     "end_time": "2023-09-30T12:48:35.495546030Z",
     "start_time": "2023-09-30T12:48:34.602425576Z"
    }
   },
   "outputs": [],
   "source": [
    "nlp = spacy.load(\"en_core_web_sm\")\n",
    "\n",
    "def preprocess_text(text):\n",
    "    doc = nlp(text)\n",
    "    tokens = [token.lemma_.lower() for token in doc if token.lemma_.isalnum() and not token.lemma_.isnumeric() and not token.is_punct and not token.is_space and not token.is_stop]\n",
    "    return \" \".join(tokens)"
   ]
  },
  {
   "cell_type": "code",
   "execution_count": 5,
   "id": "9540ed322d6d2540",
   "metadata": {
    "ExecuteTime": {
     "end_time": "2023-09-30T12:49:07.338906443Z",
     "start_time": "2023-09-30T12:48:55.691742628Z"
    }
   },
   "outputs": [],
   "source": [
    "df['p_Text'] = df['Text'].apply(preprocess_text)"
   ]
  },
  {
   "cell_type": "code",
   "execution_count": 6,
   "id": "91a03ff58eac0488",
   "metadata": {
    "ExecuteTime": {
     "end_time": "2023-09-30T12:49:08.778476631Z",
     "start_time": "2023-09-30T12:49:08.762357996Z"
    }
   },
   "outputs": [
    {
     "data": {
      "text/plain": [
       "'feel lucky today'"
      ]
     },
     "execution_count": 6,
     "metadata": {},
     "output_type": "execute_result"
    }
   ],
   "source": [
    "x = df['p_Text']\n",
    "y = df['Class']\n",
    "x[0]\n"
   ]
  },
  {
   "cell_type": "code",
   "execution_count": 8,
   "id": "2482fd9be1f6ab43",
   "metadata": {
    "ExecuteTime": {
     "end_time": "2023-09-30T12:49:10.709720401Z",
     "start_time": "2023-09-30T12:49:10.674957987Z"
    }
   },
   "outputs": [],
   "source": [
    "tfidf_vectorizer = TfidfVectorizer(max_features=10000)  # You can adjust the \n",
    "\n",
    "x_tfidf = tfidf_vectorizer.fit_transform(x)\n"
   ]
  },
  {
   "cell_type": "code",
   "execution_count": 9,
   "id": "c6625a12da82d1e",
   "metadata": {
    "ExecuteTime": {
     "end_time": "2023-09-30T12:49:12.893041117Z",
     "start_time": "2023-09-30T12:49:12.747622761Z"
    }
   },
   "outputs": [],
   "source": [
    "from sklearn.svm import LinearSVC\n",
    "from sklearn.metrics import classification_report\n",
    "from sklearn.model_selection import train_test_split\n",
    "\n",
    "\n",
    "# Split the data\n",
    "X_train, X_test, y_train, y_test = train_test_split(x_tfidf, y, test_size=0.2, random_state=42)\n",
    "\n",
    "model = LinearSVC()\n",
    "\n",
    "# # Fit the multi-output classifier\n",
    "# model.fit(X_train, y_train)\n",
    "\n",
    "# # Make predictions\n",
    "# y_pred = classifier.predict(X_test)\n",
    "\n"
   ]
  },
  {
   "cell_type": "code",
   "execution_count": 10,
   "id": "027b7bb7",
   "metadata": {},
   "outputs": [
    {
     "name": "stderr",
     "output_type": "stream",
     "text": [
      "D:\\seventh_sem\\KU_Hackfest\\mlvenv\\lib\\site-packages\\sklearn\\svm\\_classes.py:32: FutureWarning: The default value of `dual` will change from `True` to `'auto'` in 1.5. Set the value of `dual` explicitly to suppress the warning.\n",
      "  warnings.warn(\n",
      "D:\\seventh_sem\\KU_Hackfest\\mlvenv\\lib\\site-packages\\sklearn\\svm\\_classes.py:32: FutureWarning: The default value of `dual` will change from `True` to `'auto'` in 1.5. Set the value of `dual` explicitly to suppress the warning.\n",
      "  warnings.warn(\n",
      "D:\\seventh_sem\\KU_Hackfest\\mlvenv\\lib\\site-packages\\sklearn\\svm\\_classes.py:32: FutureWarning: The default value of `dual` will change from `True` to `'auto'` in 1.5. Set the value of `dual` explicitly to suppress the warning.\n",
      "  warnings.warn(\n",
      "D:\\seventh_sem\\KU_Hackfest\\mlvenv\\lib\\site-packages\\sklearn\\svm\\_classes.py:32: FutureWarning: The default value of `dual` will change from `True` to `'auto'` in 1.5. Set the value of `dual` explicitly to suppress the warning.\n",
      "  warnings.warn(\n",
      "D:\\seventh_sem\\KU_Hackfest\\mlvenv\\lib\\site-packages\\sklearn\\svm\\_classes.py:32: FutureWarning: The default value of `dual` will change from `True` to `'auto'` in 1.5. Set the value of `dual` explicitly to suppress the warning.\n",
      "  warnings.warn(\n",
      "D:\\seventh_sem\\KU_Hackfest\\mlvenv\\lib\\site-packages\\sklearn\\svm\\_classes.py:32: FutureWarning: The default value of `dual` will change from `True` to `'auto'` in 1.5. Set the value of `dual` explicitly to suppress the warning.\n",
      "  warnings.warn(\n",
      "D:\\seventh_sem\\KU_Hackfest\\mlvenv\\lib\\site-packages\\sklearn\\svm\\_classes.py:32: FutureWarning: The default value of `dual` will change from `True` to `'auto'` in 1.5. Set the value of `dual` explicitly to suppress the warning.\n",
      "  warnings.warn(\n",
      "D:\\seventh_sem\\KU_Hackfest\\mlvenv\\lib\\site-packages\\sklearn\\svm\\_classes.py:32: FutureWarning: The default value of `dual` will change from `True` to `'auto'` in 1.5. Set the value of `dual` explicitly to suppress the warning.\n",
      "  warnings.warn(\n",
      "D:\\seventh_sem\\KU_Hackfest\\mlvenv\\lib\\site-packages\\sklearn\\svm\\_classes.py:32: FutureWarning: The default value of `dual` will change from `True` to `'auto'` in 1.5. Set the value of `dual` explicitly to suppress the warning.\n",
      "  warnings.warn(\n",
      "D:\\seventh_sem\\KU_Hackfest\\mlvenv\\lib\\site-packages\\sklearn\\svm\\_classes.py:32: FutureWarning: The default value of `dual` will change from `True` to `'auto'` in 1.5. Set the value of `dual` explicitly to suppress the warning.\n",
      "  warnings.warn(\n",
      "D:\\seventh_sem\\KU_Hackfest\\mlvenv\\lib\\site-packages\\sklearn\\svm\\_classes.py:32: FutureWarning: The default value of `dual` will change from `True` to `'auto'` in 1.5. Set the value of `dual` explicitly to suppress the warning.\n",
      "  warnings.warn(\n",
      "D:\\seventh_sem\\KU_Hackfest\\mlvenv\\lib\\site-packages\\sklearn\\svm\\_classes.py:32: FutureWarning: The default value of `dual` will change from `True` to `'auto'` in 1.5. Set the value of `dual` explicitly to suppress the warning.\n",
      "  warnings.warn(\n",
      "D:\\seventh_sem\\KU_Hackfest\\mlvenv\\lib\\site-packages\\sklearn\\svm\\_classes.py:32: FutureWarning: The default value of `dual` will change from `True` to `'auto'` in 1.5. Set the value of `dual` explicitly to suppress the warning.\n",
      "  warnings.warn(\n",
      "D:\\seventh_sem\\KU_Hackfest\\mlvenv\\lib\\site-packages\\sklearn\\svm\\_classes.py:32: FutureWarning: The default value of `dual` will change from `True` to `'auto'` in 1.5. Set the value of `dual` explicitly to suppress the warning.\n",
      "  warnings.warn(\n",
      "D:\\seventh_sem\\KU_Hackfest\\mlvenv\\lib\\site-packages\\sklearn\\svm\\_classes.py:32: FutureWarning: The default value of `dual` will change from `True` to `'auto'` in 1.5. Set the value of `dual` explicitly to suppress the warning.\n",
      "  warnings.warn(\n",
      "D:\\seventh_sem\\KU_Hackfest\\mlvenv\\lib\\site-packages\\sklearn\\svm\\_classes.py:32: FutureWarning: The default value of `dual` will change from `True` to `'auto'` in 1.5. Set the value of `dual` explicitly to suppress the warning.\n",
      "  warnings.warn(\n",
      "D:\\seventh_sem\\KU_Hackfest\\mlvenv\\lib\\site-packages\\sklearn\\svm\\_base.py:1250: ConvergenceWarning: Liblinear failed to converge, increase the number of iterations.\n",
      "  warnings.warn(\n",
      "D:\\seventh_sem\\KU_Hackfest\\mlvenv\\lib\\site-packages\\sklearn\\svm\\_classes.py:32: FutureWarning: The default value of `dual` will change from `True` to `'auto'` in 1.5. Set the value of `dual` explicitly to suppress the warning.\n",
      "  warnings.warn(\n",
      "D:\\seventh_sem\\KU_Hackfest\\mlvenv\\lib\\site-packages\\sklearn\\svm\\_base.py:1250: ConvergenceWarning: Liblinear failed to converge, increase the number of iterations.\n",
      "  warnings.warn(\n",
      "D:\\seventh_sem\\KU_Hackfest\\mlvenv\\lib\\site-packages\\sklearn\\svm\\_classes.py:32: FutureWarning: The default value of `dual` will change from `True` to `'auto'` in 1.5. Set the value of `dual` explicitly to suppress the warning.\n",
      "  warnings.warn(\n",
      "D:\\seventh_sem\\KU_Hackfest\\mlvenv\\lib\\site-packages\\sklearn\\svm\\_base.py:1250: ConvergenceWarning: Liblinear failed to converge, increase the number of iterations.\n",
      "  warnings.warn(\n",
      "D:\\seventh_sem\\KU_Hackfest\\mlvenv\\lib\\site-packages\\sklearn\\svm\\_classes.py:32: FutureWarning: The default value of `dual` will change from `True` to `'auto'` in 1.5. Set the value of `dual` explicitly to suppress the warning.\n",
      "  warnings.warn(\n",
      "D:\\seventh_sem\\KU_Hackfest\\mlvenv\\lib\\site-packages\\sklearn\\svm\\_base.py:1250: ConvergenceWarning: Liblinear failed to converge, increase the number of iterations.\n",
      "  warnings.warn(\n",
      "D:\\seventh_sem\\KU_Hackfest\\mlvenv\\lib\\site-packages\\sklearn\\svm\\_classes.py:32: FutureWarning: The default value of `dual` will change from `True` to `'auto'` in 1.5. Set the value of `dual` explicitly to suppress the warning.\n",
      "  warnings.warn(\n",
      "D:\\seventh_sem\\KU_Hackfest\\mlvenv\\lib\\site-packages\\sklearn\\svm\\_base.py:1250: ConvergenceWarning: Liblinear failed to converge, increase the number of iterations.\n",
      "  warnings.warn(\n",
      "D:\\seventh_sem\\KU_Hackfest\\mlvenv\\lib\\site-packages\\sklearn\\svm\\_classes.py:32: FutureWarning: The default value of `dual` will change from `True` to `'auto'` in 1.5. Set the value of `dual` explicitly to suppress the warning.\n",
      "  warnings.warn(\n"
     ]
    }
   ],
   "source": [
    "#HyperParameter \n",
    "from sklearn.model_selection import GridSearchCV\n",
    "\n",
    "# Example: Grid search for LinearSVC hyperparameters\n",
    "\n",
    "param_grid = {'C': [0.1, 1, 10, 100]}\n",
    "grid_search = GridSearchCV(LinearSVC(), param_grid, cv=5)\n",
    "grid_search.fit(X_train, y_train)\n",
    "best_classifier = grid_search.best_estimator_\n"
   ]
  },
  {
   "cell_type": "code",
   "execution_count": 11,
   "id": "bd7ec7d7",
   "metadata": {},
   "outputs": [
    {
     "data": {
      "text/plain": [
       "<1071x8768 sparse matrix of type '<class 'numpy.float64'>'\n",
       "\twith 13745 stored elements in Compressed Sparse Row format>"
      ]
     },
     "execution_count": 11,
     "metadata": {},
     "output_type": "execute_result"
    }
   ],
   "source": [
    "y_pred = best_classifier.predict(X_test)\n",
    "X_test"
   ]
  },
  {
   "cell_type": "code",
   "execution_count": 12,
   "id": "9ce6b42a",
   "metadata": {},
   "outputs": [
    {
     "name": "stdout",
     "output_type": "stream",
     "text": [
      "Classification Report:\n",
      "               precision    recall  f1-score   support\n",
      "\n",
      "   Affection       0.96      0.98      0.97       286\n",
      " Affirmation       0.92      0.90      0.91        61\n",
      "  Depression       0.99      0.99      0.99       304\n",
      "    Gambling       1.00      1.00      1.00        39\n",
      "  HateSpeech       0.99      0.98      0.99       307\n",
      "Mobile Games       1.00      1.00      1.00        17\n",
      "   Political       1.00      0.98      0.99        57\n",
      "\n",
      "    accuracy                           0.98      1071\n",
      "   macro avg       0.98      0.98      0.98      1071\n",
      "weighted avg       0.98      0.98      0.98      1071\n",
      "\n"
     ]
    }
   ],
   "source": [
    "report = classification_report(y_test, y_pred)\n",
    "\n",
    "print(\"Classification Report:\\n\", report)"
   ]
  },
  {
   "cell_type": "code",
   "execution_count": 13,
   "id": "abe015bc987210d",
   "metadata": {
    "ExecuteTime": {
     "end_time": "2023-09-30T12:49:16.160132833Z",
     "start_time": "2023-09-30T12:49:16.144784650Z"
    }
   },
   "outputs": [],
   "source": [
    "\n",
    "from sklearn.metrics import confusion_matrix"
   ]
  },
  {
   "cell_type": "code",
   "execution_count": 14,
   "id": "1d7f7d09fd8c33c7",
   "metadata": {
    "ExecuteTime": {
     "end_time": "2023-09-30T12:49:24.706732087Z",
     "start_time": "2023-09-30T12:49:24.616937342Z"
    }
   },
   "outputs": [
    {
     "data": {
      "text/plain": [
       "array([[280,   6,   2,   0,   4,   0,   0],\n",
       "       [  5,  55,   0,   0,   0,   0,   0],\n",
       "       [  1,   0, 301,   0,   2,   0,   0],\n",
       "       [  0,   0,   0,  39,   0,   0,   0],\n",
       "       [  0,   0,   1,   0, 301,   0,   1],\n",
       "       [  0,   0,   0,   0,   0,  17,   0],\n",
       "       [  0,   0,   0,   0,   0,   0,  56]], dtype=int64)"
      ]
     },
     "execution_count": 14,
     "metadata": {},
     "output_type": "execute_result"
    }
   ],
   "source": [
    "confusion_matrix(y_pred,y_test)"
   ]
  },
  {
   "cell_type": "code",
   "execution_count": 36,
   "id": "2d932609",
   "metadata": {},
   "outputs": [],
   "source": [
    "text1 = 'I love you'\n",
    "text2 = 'I hate you'\n",
    "text3 = 'Muslim'\n",
    "text4 = 'Mayor Balen ran away'\n",
    "text5 = \"Playing Clash Royale has been very fun today\"\n",
    "text6 = \"I could drink poison for you\""
   ]
  },
  {
   "cell_type": "code",
   "execution_count": 37,
   "id": "7b9010958cc761f8",
   "metadata": {},
   "outputs": [
    {
     "data": {
      "text/plain": [
       "<6x8768 sparse matrix of type '<class 'numpy.float64'>'\n",
       "\twith 15 stored elements in Compressed Sparse Row format>"
      ]
     },
     "execution_count": 37,
     "metadata": {},
     "output_type": "execute_result"
    }
   ],
   "source": [
    "test = tfidf_vectorizer.transform([text1, text2,text3,text4, text5,text6])\n",
    "test"
   ]
  },
  {
   "cell_type": "code",
   "execution_count": 38,
   "id": "cd090b7d",
   "metadata": {},
   "outputs": [
    {
     "data": {
      "text/plain": [
       "array(['Affection', 'HateSpeech', 'HateSpeech', 'Political', 'HateSpeech',\n",
       "       'Depression'], dtype=object)"
      ]
     },
     "execution_count": 38,
     "metadata": {},
     "output_type": "execute_result"
    }
   ],
   "source": [
    "best_classifier.predict(test)"
   ]
  },
  {
   "cell_type": "code",
   "execution_count": 18,
   "id": "636a6f44",
   "metadata": {},
   "outputs": [
    {
     "data": {
      "text/plain": [
       "<1x8768 sparse matrix of type '<class 'numpy.float64'>'\n",
       "\twith 12 stored elements in Compressed Sparse Row format>"
      ]
     },
     "execution_count": 18,
     "metadata": {},
     "output_type": "execute_result"
    }
   ],
   "source": [
    "X_train[0]"
   ]
  },
  {
   "cell_type": "code",
   "execution_count": null,
   "id": "5bef15ba",
   "metadata": {},
   "outputs": [],
   "source": [
    "test[0]"
   ]
  },
  {
   "cell_type": "code",
   "execution_count": null,
   "id": "133a2f31",
   "metadata": {},
   "outputs": [],
   "source": [
    "X_test[0]"
   ]
  },
  {
   "cell_type": "code",
   "execution_count": null,
   "id": "2c983122",
   "metadata": {},
   "outputs": [],
   "source": []
  }
 ],
 "metadata": {
  "kernelspec": {
   "display_name": "mlvenv",
   "language": "python",
   "name": "mlvenv"
  },
  "language_info": {
   "codemirror_mode": {
    "name": "ipython",
    "version": 3
   },
   "file_extension": ".py",
   "mimetype": "text/x-python",
   "name": "python",
   "nbconvert_exporter": "python",
   "pygments_lexer": "ipython3",
   "version": "3.8.0"
  }
 },
 "nbformat": 4,
 "nbformat_minor": 5
}
