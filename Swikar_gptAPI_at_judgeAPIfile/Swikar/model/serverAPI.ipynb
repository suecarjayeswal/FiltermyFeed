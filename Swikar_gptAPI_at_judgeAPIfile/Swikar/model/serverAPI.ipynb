{
 "cells": [
  {
   "cell_type": "code",
   "execution_count": 2,
   "metadata": {},
   "outputs": [
    {
     "name": "stdout",
     "output_type": "stream",
     "text": [
      "Collecting flask\n",
      "  Downloading Flask-2.2.5-py3-none-any.whl (101 kB)\n",
      "     ------------------------------------ 101.8/101.8 kB 114.9 kB/s eta 0:00:00\n",
      "Requirement already satisfied: Werkzeug>=2.2.2 in c:\\users\\jasw.laptop-sr8qa6el\\.conda\\envs\\dl_pytorch_env\\lib\\site-packages (from flask) (2.2.2)\n",
      "Requirement already satisfied: Jinja2>=3.0 in c:\\users\\jasw.laptop-sr8qa6el\\.conda\\envs\\dl_pytorch_env\\lib\\site-packages (from flask) (3.1.2)\n",
      "Collecting itsdangerous>=2.0 (from flask)\n",
      "  Downloading itsdangerous-2.1.2-py3-none-any.whl (15 kB)\n",
      "Requirement already satisfied: click>=8.0 in c:\\users\\jasw.laptop-sr8qa6el\\.conda\\envs\\dl_pytorch_env\\lib\\site-packages (from flask) (8.0.4)\n",
      "Requirement already satisfied: importlib-metadata>=3.6.0 in c:\\users\\jasw.laptop-sr8qa6el\\.conda\\envs\\dl_pytorch_env\\lib\\site-packages (from flask) (4.11.3)\n",
      "Requirement already satisfied: colorama in c:\\users\\jasw.laptop-sr8qa6el\\.conda\\envs\\dl_pytorch_env\\lib\\site-packages (from click>=8.0->flask) (0.4.6)\n",
      "Requirement already satisfied: zipp>=0.5 in c:\\users\\jasw.laptop-sr8qa6el\\.conda\\envs\\dl_pytorch_env\\lib\\site-packages (from importlib-metadata>=3.6.0->flask) (3.11.0)\n",
      "Requirement already satisfied: typing-extensions>=3.6.4 in c:\\users\\jasw.laptop-sr8qa6el\\.conda\\envs\\dl_pytorch_env\\lib\\site-packages (from importlib-metadata>=3.6.0->flask) (4.1.1)\n",
      "Requirement already satisfied: MarkupSafe>=2.0 in c:\\users\\jasw.laptop-sr8qa6el\\.conda\\envs\\dl_pytorch_env\\lib\\site-packages (from Jinja2>=3.0->flask) (2.1.1)\n",
      "Installing collected packages: itsdangerous, flask\n",
      "Successfully installed flask-2.2.5 itsdangerous-2.1.2\n"
     ]
    }
   ],
   "source": [
    "!pip install flask"
   ]
  },
  {
   "cell_type": "code",
   "execution_count": 6,
   "metadata": {},
   "outputs": [],
   "source": [
    "import flask\n",
    "import json\n",
    "from flask import request, jsonify\n",
    "from judgeAPI import evaluate_text_for_keywords"
   ]
  },
  {
   "cell_type": "code",
   "execution_count": 7,
   "metadata": {},
   "outputs": [],
   "source": [
    "app = flask.Flask(__name__)\n"
   ]
  },
  {
   "cell_type": "code",
   "execution_count": 8,
   "metadata": {},
   "outputs": [],
   "source": [
    "@app.route('/evaluate_text_for_keywords', methods=['POST'])\n",
    "def evaluate_text_for_keywords_api():\n",
    "  \"\"\"Evaluates the contextual/semantic relationship between a text content and a given set of words.\n",
    "\n",
    "  Args:\n",
    "    text_to_evaluate: The text content to evaluate.\n",
    "    keyword_list: A list of words to evaluate the relationship against.\n",
    "\n",
    "  Returns:\n",
    "    A number string representing the score between 0 and 1, where 0 indicates no relationship and 1 indicates a perfect relationship.\n",
    "  \"\"\"\n",
    "\n",
    "  # Get the text content and keyword list from the request.\n",
    "  text_to_evaluate = request.json['text_to_evaluate']\n",
    "  keyword_list = request.json['keyword_list']\n",
    "\n",
    "  # Evaluate the contextual/semantic relationship between the text content and the keyword list.\n",
    "  score = evaluate_text_for_keywords(text_to_evaluate, keyword_list)\n",
    "\n",
    "  # Return the score as a JSON response.\n",
    "  return jsonify({'score': score})\n"
   ]
  },
  {
   "cell_type": "code",
   "execution_count": 10,
   "metadata": {},
   "outputs": [
    {
     "name": "stdout",
     "output_type": "stream",
     "text": [
      " * Serving Flask app '__main__'\n",
      " * Debug mode: on\n"
     ]
    },
    {
     "name": "stderr",
     "output_type": "stream",
     "text": [
      "WARNING: This is a development server. Do not use it in a production deployment. Use a production WSGI server instead.\n",
      " * Running on http://127.0.0.1:5000\n",
      "Press CTRL+C to quit\n",
      " * Restarting with watchdog (windowsapi)\n"
     ]
    },
    {
     "ename": "SystemExit",
     "evalue": "1",
     "output_type": "error",
     "traceback": [
      "An exception has occurred, use %tb to see the full traceback.\n",
      "\u001b[1;31mSystemExit\u001b[0m\u001b[1;31m:\u001b[0m 1\n"
     ]
    }
   ],
   "source": [
    "if __name__ == '__main__':\n",
    "  app.run(debug=True)\n"
   ]
  }
 ],
 "metadata": {
  "kernelspec": {
   "display_name": "dl_pytorch_env",
   "language": "python",
   "name": "python3"
  },
  "language_info": {
   "codemirror_mode": {
    "name": "ipython",
    "version": 3
   },
   "file_extension": ".py",
   "mimetype": "text/x-python",
   "name": "python",
   "nbconvert_exporter": "python",
   "pygments_lexer": "ipython3",
   "version": "3.7.7"
  },
  "orig_nbformat": 4
 },
 "nbformat": 4,
 "nbformat_minor": 2
}
