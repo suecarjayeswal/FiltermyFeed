{
 "cells": [
  {
   "cell_type": "code",
   "execution_count": 17,
   "outputs": [],
   "source": [
    "import pandas as pd\n",
    "import matplotlib.pyplot as plt\n",
    "import xgboost as xgb\n",
    "from xgboost import plot_importance, plot_tree\n",
    "from sklearn.metrics import mean_squared_error\n",
    "from sklearn.preprocessing import MinMaxScaler\n",
    "from sklearn.model_selection import train_test_split, GridSearchCV\n",
    "from warnings import simplefilter\n",
    "simplefilter(action='ignore', category=FutureWarning)\n",
    "simplefilter(action='ignore', category=DeprecationWarning)\n",
    "\n",
    "import spacy\n",
    "nlp = spacy.load('en_core_web_sm')"
   ],
   "metadata": {
    "collapsed": false,
    "ExecuteTime": {
     "end_time": "2023-09-29T11:04:00.673397126Z",
     "start_time": "2023-09-29T11:03:56.907871475Z"
    }
   },
   "id": "926208574fbe7894"
  },
  {
   "cell_type": "code",
   "execution_count": 3,
   "outputs": [],
   "source": [
    "df = pd.read_csv('labeled_data.csv')\n",
    "df.drop(columns=df.columns[0], axis = 1, inplace = True)"
   ],
   "metadata": {
    "collapsed": false,
    "ExecuteTime": {
     "end_time": "2023-09-29T10:45:03.257177004Z",
     "start_time": "2023-09-29T10:45:02.794556522Z"
    }
   },
   "id": "ab6346e142d0a527"
  },
  {
   "cell_type": "code",
   "execution_count": 4,
   "outputs": [
    {
     "data": {
      "text/plain": "       count  hate_speech  offensive_language  neither  class  \\\n0          3            0                   0        3      2   \n1          3            0                   3        0      1   \n2          3            0                   3        0      1   \n3          3            0                   2        1      1   \n4          6            0                   6        0      1   \n...      ...          ...                 ...      ...    ...   \n24778      3            0                   2        1      1   \n24779      3            0                   1        2      2   \n24780      3            0                   3        0      1   \n24781      6            0                   6        0      1   \n24782      3            0                   0        3      2   \n\n                                                   tweet  \n0      !!! RT @mayasolovely: As a woman you shouldn't...  \n1      !!!!! RT @mleew17: boy dats cold...tyga dwn ba...  \n2      !!!!!!! RT @UrKindOfBrand Dawg!!!! RT @80sbaby...  \n3      !!!!!!!!! RT @C_G_Anderson: @viva_based she lo...  \n4      !!!!!!!!!!!!! RT @ShenikaRoberts: The shit you...  \n...                                                  ...  \n24778  you's a muthaf***in lie &#8220;@LifeAsKing: @2...  \n24779  you've gone and broke the wrong heart baby, an...  \n24780  young buck wanna eat!!.. dat nigguh like I ain...  \n24781              youu got wild bitches tellin you lies  \n24782  ~~Ruffled | Ntac Eileen Dahlia - Beautiful col...  \n\n[24783 rows x 6 columns]",
      "text/html": "<div>\n<style scoped>\n    .dataframe tbody tr th:only-of-type {\n        vertical-align: middle;\n    }\n\n    .dataframe tbody tr th {\n        vertical-align: top;\n    }\n\n    .dataframe thead th {\n        text-align: right;\n    }\n</style>\n<table border=\"1\" class=\"dataframe\">\n  <thead>\n    <tr style=\"text-align: right;\">\n      <th></th>\n      <th>count</th>\n      <th>hate_speech</th>\n      <th>offensive_language</th>\n      <th>neither</th>\n      <th>class</th>\n      <th>tweet</th>\n    </tr>\n  </thead>\n  <tbody>\n    <tr>\n      <th>0</th>\n      <td>3</td>\n      <td>0</td>\n      <td>0</td>\n      <td>3</td>\n      <td>2</td>\n      <td>!!! RT @mayasolovely: As a woman you shouldn't...</td>\n    </tr>\n    <tr>\n      <th>1</th>\n      <td>3</td>\n      <td>0</td>\n      <td>3</td>\n      <td>0</td>\n      <td>1</td>\n      <td>!!!!! RT @mleew17: boy dats cold...tyga dwn ba...</td>\n    </tr>\n    <tr>\n      <th>2</th>\n      <td>3</td>\n      <td>0</td>\n      <td>3</td>\n      <td>0</td>\n      <td>1</td>\n      <td>!!!!!!! RT @UrKindOfBrand Dawg!!!! RT @80sbaby...</td>\n    </tr>\n    <tr>\n      <th>3</th>\n      <td>3</td>\n      <td>0</td>\n      <td>2</td>\n      <td>1</td>\n      <td>1</td>\n      <td>!!!!!!!!! RT @C_G_Anderson: @viva_based she lo...</td>\n    </tr>\n    <tr>\n      <th>4</th>\n      <td>6</td>\n      <td>0</td>\n      <td>6</td>\n      <td>0</td>\n      <td>1</td>\n      <td>!!!!!!!!!!!!! RT @ShenikaRoberts: The shit you...</td>\n    </tr>\n    <tr>\n      <th>...</th>\n      <td>...</td>\n      <td>...</td>\n      <td>...</td>\n      <td>...</td>\n      <td>...</td>\n      <td>...</td>\n    </tr>\n    <tr>\n      <th>24778</th>\n      <td>3</td>\n      <td>0</td>\n      <td>2</td>\n      <td>1</td>\n      <td>1</td>\n      <td>you's a muthaf***in lie &amp;#8220;@LifeAsKing: @2...</td>\n    </tr>\n    <tr>\n      <th>24779</th>\n      <td>3</td>\n      <td>0</td>\n      <td>1</td>\n      <td>2</td>\n      <td>2</td>\n      <td>you've gone and broke the wrong heart baby, an...</td>\n    </tr>\n    <tr>\n      <th>24780</th>\n      <td>3</td>\n      <td>0</td>\n      <td>3</td>\n      <td>0</td>\n      <td>1</td>\n      <td>young buck wanna eat!!.. dat nigguh like I ain...</td>\n    </tr>\n    <tr>\n      <th>24781</th>\n      <td>6</td>\n      <td>0</td>\n      <td>6</td>\n      <td>0</td>\n      <td>1</td>\n      <td>youu got wild bitches tellin you lies</td>\n    </tr>\n    <tr>\n      <th>24782</th>\n      <td>3</td>\n      <td>0</td>\n      <td>0</td>\n      <td>3</td>\n      <td>2</td>\n      <td>~~Ruffled | Ntac Eileen Dahlia - Beautiful col...</td>\n    </tr>\n  </tbody>\n</table>\n<p>24783 rows × 6 columns</p>\n</div>"
     },
     "execution_count": 4,
     "metadata": {},
     "output_type": "execute_result"
    }
   ],
   "source": [
    "df\n",
    "#  0 -> Hate speech, 1-> Offensive, 2-> Neither"
   ],
   "metadata": {
    "collapsed": false,
    "ExecuteTime": {
     "end_time": "2023-09-29T10:45:05.309877628Z",
     "start_time": "2023-09-29T10:45:05.277840803Z"
    }
   },
   "id": "aa85e5ba92346ecb"
  },
  {
   "cell_type": "code",
   "execution_count": 59,
   "outputs": [
    {
     "data": {
      "text/plain": "                                                   tweet  class\n0      !!! RT @mayasolovely: As a woman you shouldn't...      2\n1      !!!!! RT @mleew17: boy dats cold...tyga dwn ba...      1\n2      !!!!!!! RT @UrKindOfBrand Dawg!!!! RT @80sbaby...      1\n3      !!!!!!!!! RT @C_G_Anderson: @viva_based she lo...      1\n4      !!!!!!!!!!!!! RT @ShenikaRoberts: The shit you...      1\n...                                                  ...    ...\n24778  you's a muthaf***in lie &#8220;@LifeAsKing: @2...      1\n24779  you've gone and broke the wrong heart baby, an...      2\n24780  young buck wanna eat!!.. dat nigguh like I ain...      1\n24781              youu got wild bitches tellin you lies      1\n24782  ~~Ruffled | Ntac Eileen Dahlia - Beautiful col...      2\n\n[24783 rows x 2 columns]",
      "text/html": "<div>\n<style scoped>\n    .dataframe tbody tr th:only-of-type {\n        vertical-align: middle;\n    }\n\n    .dataframe tbody tr th {\n        vertical-align: top;\n    }\n\n    .dataframe thead th {\n        text-align: right;\n    }\n</style>\n<table border=\"1\" class=\"dataframe\">\n  <thead>\n    <tr style=\"text-align: right;\">\n      <th></th>\n      <th>tweet</th>\n      <th>class</th>\n    </tr>\n  </thead>\n  <tbody>\n    <tr>\n      <th>0</th>\n      <td>!!! RT @mayasolovely: As a woman you shouldn't...</td>\n      <td>2</td>\n    </tr>\n    <tr>\n      <th>1</th>\n      <td>!!!!! RT @mleew17: boy dats cold...tyga dwn ba...</td>\n      <td>1</td>\n    </tr>\n    <tr>\n      <th>2</th>\n      <td>!!!!!!! RT @UrKindOfBrand Dawg!!!! RT @80sbaby...</td>\n      <td>1</td>\n    </tr>\n    <tr>\n      <th>3</th>\n      <td>!!!!!!!!! RT @C_G_Anderson: @viva_based she lo...</td>\n      <td>1</td>\n    </tr>\n    <tr>\n      <th>4</th>\n      <td>!!!!!!!!!!!!! RT @ShenikaRoberts: The shit you...</td>\n      <td>1</td>\n    </tr>\n    <tr>\n      <th>...</th>\n      <td>...</td>\n      <td>...</td>\n    </tr>\n    <tr>\n      <th>24778</th>\n      <td>you's a muthaf***in lie &amp;#8220;@LifeAsKing: @2...</td>\n      <td>1</td>\n    </tr>\n    <tr>\n      <th>24779</th>\n      <td>you've gone and broke the wrong heart baby, an...</td>\n      <td>2</td>\n    </tr>\n    <tr>\n      <th>24780</th>\n      <td>young buck wanna eat!!.. dat nigguh like I ain...</td>\n      <td>1</td>\n    </tr>\n    <tr>\n      <th>24781</th>\n      <td>youu got wild bitches tellin you lies</td>\n      <td>1</td>\n    </tr>\n    <tr>\n      <th>24782</th>\n      <td>~~Ruffled | Ntac Eileen Dahlia - Beautiful col...</td>\n      <td>2</td>\n    </tr>\n  </tbody>\n</table>\n<p>24783 rows × 2 columns</p>\n</div>"
     },
     "execution_count": 59,
     "metadata": {},
     "output_type": "execute_result"
    }
   ],
   "source": [
    "main_df = df[['tweet','class']]\n",
    "main_df"
   ],
   "metadata": {
    "collapsed": false,
    "ExecuteTime": {
     "end_time": "2023-09-29T11:42:17.792809163Z",
     "start_time": "2023-09-29T11:42:17.750029806Z"
    }
   },
   "id": "5862bf35afae5611"
  },
  {
   "cell_type": "code",
   "execution_count": 60,
   "outputs": [
    {
     "data": {
      "text/plain": "\"!!! RT @mayasolovely: As a woman you shouldn't complain about cleaning up your house. &amp; as a man you should always take the trash out...\""
     },
     "execution_count": 60,
     "metadata": {},
     "output_type": "execute_result"
    }
   ],
   "source": [
    "main_df.iloc[0,0]"
   ],
   "metadata": {
    "collapsed": false,
    "ExecuteTime": {
     "end_time": "2023-09-29T11:42:18.196727934Z",
     "start_time": "2023-09-29T11:42:18.167412566Z"
    }
   },
   "id": "ff251e3942812c11"
  },
  {
   "cell_type": "code",
   "execution_count": 65,
   "outputs": [],
   "source": [
    "def preprocess_token(token):\n",
    "    return token.lemma_.strip().lower()\n",
    "def valid_token(token):\n",
    "    return bool(token and token.lemma_.isalnum() and str(token).strip() and not token.is_punct)\n"
   ],
   "metadata": {
    "collapsed": false,
    "ExecuteTime": {
     "end_time": "2023-09-29T11:44:10.876230206Z",
     "start_time": "2023-09-29T11:44:10.819511508Z"
    }
   },
   "id": "7e77f994031029fa"
  },
  {
   "cell_type": "code",
   "execution_count": 66,
   "outputs": [],
   "source": [
    "word_list = list(df['tweet'])"
   ],
   "metadata": {
    "collapsed": false,
    "ExecuteTime": {
     "end_time": "2023-09-29T11:44:11.414684096Z",
     "start_time": "2023-09-29T11:44:11.400802977Z"
    }
   },
   "id": "30c3a124fb66ec04"
  },
  {
   "cell_type": "code",
   "execution_count": 67,
   "outputs": [],
   "source": [
    "temp = list()\n",
    "for i in word_list:\n",
    "    doc = nlp(i)\n",
    "    temp.append([preprocess_token(token) for token in doc if valid_token(token)])"
   ],
   "metadata": {
    "collapsed": false,
    "ExecuteTime": {
     "end_time": "2023-09-29T11:47:01.964755032Z",
     "start_time": "2023-09-29T11:44:11.838307545Z"
    }
   },
   "id": "560fa3c8a6f9ba5d"
  },
  {
   "cell_type": "code",
   "execution_count": 68,
   "outputs": [],
   "source": [
    "new_temp = []\n",
    "for i in temp:\n",
    "    new_temp.append(' '.join(i))"
   ],
   "metadata": {
    "collapsed": false,
    "ExecuteTime": {
     "end_time": "2023-09-29T11:48:15.357922126Z",
     "start_time": "2023-09-29T11:48:15.317560172Z"
    }
   },
   "id": "bef72c5ded84bac7"
  },
  {
   "cell_type": "code",
   "execution_count": 69,
   "outputs": [
    {
     "name": "stderr",
     "output_type": "stream",
     "text": [
      "/tmp/ipykernel_54309/4128648944.py:1: SettingWithCopyWarning: \n",
      "A value is trying to be set on a copy of a slice from a DataFrame.\n",
      "Try using .loc[row_indexer,col_indexer] = value instead\n",
      "\n",
      "See the caveats in the documentation: https://pandas.pydata.org/pandas-docs/stable/user_guide/indexing.html#returning-a-view-versus-a-copy\n",
      "  main_df['processed_tweet'] = new_temp\n"
     ]
    }
   ],
   "source": [
    "main_df['processed_tweet'] = new_temp"
   ],
   "metadata": {
    "collapsed": false,
    "ExecuteTime": {
     "end_time": "2023-09-29T11:48:16.514274123Z",
     "start_time": "2023-09-29T11:48:16.465093075Z"
    }
   },
   "id": "920b8f97dd331dc1"
  },
  {
   "cell_type": "code",
   "execution_count": 70,
   "outputs": [
    {
     "data": {
      "text/plain": "                                                   tweet  class  \\\n0      !!! RT @mayasolovely: As a woman you shouldn't...      2   \n1      !!!!! RT @mleew17: boy dats cold...tyga dwn ba...      1   \n2      !!!!!!! RT @UrKindOfBrand Dawg!!!! RT @80sbaby...      1   \n3      !!!!!!!!! RT @C_G_Anderson: @viva_based she lo...      1   \n4      !!!!!!!!!!!!! RT @ShenikaRoberts: The shit you...      1   \n...                                                  ...    ...   \n24778  you's a muthaf***in lie &#8220;@LifeAsKing: @2...      1   \n24779  you've gone and broke the wrong heart baby, an...      2   \n24780  young buck wanna eat!!.. dat nigguh like I ain...      1   \n24781              youu got wild bitches tellin you lies      1   \n24782  ~~Ruffled | Ntac Eileen Dahlia - Beautiful col...      2   \n\n                                         processed_tweet  \n0      rt as a woman you should not complain about cl...  \n1      rt boy dat cold tyga dwn bad for cuffin dat ho...  \n2      rt dawg rt you ever fuck a bitch and she start...  \n3                              rt she look like a tranny  \n4      rt the shit you hear about i might be true or ...  \n...                                                  ...  \n24778  you be a lie right his tl be trash 8230 now mi...  \n24779  you go and break the wrong heart baby and driv...  \n24780  young buck wanna eat dat nigguh like i be not ...  \n24781                 youu get wild bitch tellin you lie  \n24782  ntac eileen dahlia beautiful color combination...  \n\n[24783 rows x 3 columns]",
      "text/html": "<div>\n<style scoped>\n    .dataframe tbody tr th:only-of-type {\n        vertical-align: middle;\n    }\n\n    .dataframe tbody tr th {\n        vertical-align: top;\n    }\n\n    .dataframe thead th {\n        text-align: right;\n    }\n</style>\n<table border=\"1\" class=\"dataframe\">\n  <thead>\n    <tr style=\"text-align: right;\">\n      <th></th>\n      <th>tweet</th>\n      <th>class</th>\n      <th>processed_tweet</th>\n    </tr>\n  </thead>\n  <tbody>\n    <tr>\n      <th>0</th>\n      <td>!!! RT @mayasolovely: As a woman you shouldn't...</td>\n      <td>2</td>\n      <td>rt as a woman you should not complain about cl...</td>\n    </tr>\n    <tr>\n      <th>1</th>\n      <td>!!!!! RT @mleew17: boy dats cold...tyga dwn ba...</td>\n      <td>1</td>\n      <td>rt boy dat cold tyga dwn bad for cuffin dat ho...</td>\n    </tr>\n    <tr>\n      <th>2</th>\n      <td>!!!!!!! RT @UrKindOfBrand Dawg!!!! RT @80sbaby...</td>\n      <td>1</td>\n      <td>rt dawg rt you ever fuck a bitch and she start...</td>\n    </tr>\n    <tr>\n      <th>3</th>\n      <td>!!!!!!!!! RT @C_G_Anderson: @viva_based she lo...</td>\n      <td>1</td>\n      <td>rt she look like a tranny</td>\n    </tr>\n    <tr>\n      <th>4</th>\n      <td>!!!!!!!!!!!!! RT @ShenikaRoberts: The shit you...</td>\n      <td>1</td>\n      <td>rt the shit you hear about i might be true or ...</td>\n    </tr>\n    <tr>\n      <th>...</th>\n      <td>...</td>\n      <td>...</td>\n      <td>...</td>\n    </tr>\n    <tr>\n      <th>24778</th>\n      <td>you's a muthaf***in lie &amp;#8220;@LifeAsKing: @2...</td>\n      <td>1</td>\n      <td>you be a lie right his tl be trash 8230 now mi...</td>\n    </tr>\n    <tr>\n      <th>24779</th>\n      <td>you've gone and broke the wrong heart baby, an...</td>\n      <td>2</td>\n      <td>you go and break the wrong heart baby and driv...</td>\n    </tr>\n    <tr>\n      <th>24780</th>\n      <td>young buck wanna eat!!.. dat nigguh like I ain...</td>\n      <td>1</td>\n      <td>young buck wanna eat dat nigguh like i be not ...</td>\n    </tr>\n    <tr>\n      <th>24781</th>\n      <td>youu got wild bitches tellin you lies</td>\n      <td>1</td>\n      <td>youu get wild bitch tellin you lie</td>\n    </tr>\n    <tr>\n      <th>24782</th>\n      <td>~~Ruffled | Ntac Eileen Dahlia - Beautiful col...</td>\n      <td>2</td>\n      <td>ntac eileen dahlia beautiful color combination...</td>\n    </tr>\n  </tbody>\n</table>\n<p>24783 rows × 3 columns</p>\n</div>"
     },
     "execution_count": 70,
     "metadata": {},
     "output_type": "execute_result"
    }
   ],
   "source": [
    "main_df"
   ],
   "metadata": {
    "collapsed": false,
    "ExecuteTime": {
     "end_time": "2023-09-29T11:48:19.283647950Z",
     "start_time": "2023-09-29T11:48:19.265919048Z"
    }
   },
   "id": "7f02c9958eb85e9c"
  },
  {
   "cell_type": "code",
   "execution_count": 72,
   "outputs": [],
   "source": [
    "main_df.to_csv('clean_data.csv')"
   ],
   "metadata": {
    "collapsed": false,
    "ExecuteTime": {
     "end_time": "2023-09-29T12:44:44.063600049Z",
     "start_time": "2023-09-29T12:44:43.926259700Z"
    }
   },
   "id": "6e34436db88a50c4"
  }
 ],
 "metadata": {
  "kernelspec": {
   "display_name": "Python 3",
   "language": "python",
   "name": "python3"
  },
  "language_info": {
   "codemirror_mode": {
    "name": "ipython",
    "version": 2
   },
   "file_extension": ".py",
   "mimetype": "text/x-python",
   "name": "python",
   "nbconvert_exporter": "python",
   "pygments_lexer": "ipython2",
   "version": "2.7.6"
  }
 },
 "nbformat": 4,
 "nbformat_minor": 5
}
